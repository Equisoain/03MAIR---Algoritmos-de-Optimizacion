{
  "nbformat": 4,
  "nbformat_minor": 0,
  "metadata": {
    "colab": {
      "provenance": [],
      "include_colab_link": true
    },
    "kernelspec": {
      "name": "python3",
      "display_name": "Python 3"
    }
  },
  "cells": [
    {
      "cell_type": "markdown",
      "metadata": {
        "id": "view-in-github",
        "colab_type": "text"
      },
      "source": [
        "<a href=\"https://colab.research.google.com/github/Equisoain/03MAIR---Algoritmos-de-Optimizacion/blob/main/Trabajo_Pr%C3%A1ctico_Algoritmos_de_Optimizaci%C3%B3n.ipynb\" target=\"_parent\"><img src=\"https://colab.research.google.com/assets/colab-badge.svg\" alt=\"Open In Colab\"/></a>"
      ]
    },
    {
      "cell_type": "markdown",
      "metadata": {
        "id": "hVbXYX-RfPWh"
      },
      "source": [
        "# Algoritmos de optimización - Trabajo Práctico<br>\n",
        "Nombre y Apellidos: Maddi Equisoain Redin  <br>\n",
        "Url: https://github.com/Equisoain/03MAIR---Algoritmos-de-Optimizacion/blob/main/Trabajo_Pr%C3%A1ctico_Algoritmos_Maddi_Equisoain.ipynb <br>\n",
        "Google Colab: https://colab.research.google.com/drive/1r4Hc1GOdsVvvYZdzV9shgDHJjJRHo1eN <br>\n",
        "Problema:\n",
        "\n",
        ">**2. Organizar los horarios de partidos de una jornada de La Liga**\n",
        "\n",
        "Descripción del problema:\n",
        "\n",
        "Desde la La Liga de fútbol profesional se pretende organizar los horarios de los partidos de liga de cada jornada. Se conocen algunos datos que nos deben llevar a diseñar un algoritmo que realice la asignación de los partidos a los horarios de forma que maximice la audiencia.\n",
        "\n",
        "Los horarios disponibles se conocen a priori y son los siguientes:\n",
        "\n",
        "\n",
        "<table>\n",
        "    <tr>\n",
        "        <td>Lunes</td>\n",
        "        <td>20</td>\n",
        "    </tr>\n",
        "    <tr>\n",
        "        <td>Sábado</td>\n",
        "        <td>12, 16, 18, 20</td>\n",
        "    </tr>\n",
        "    <tr>\n",
        "        <td>Domingo</td>\n",
        "        <td>12, 16, 18, 20</td>\n",
        "    </tr>\n",
        "    <tr>\n",
        "        <td>Lunes</td>\n",
        "        <td>20</td>\n",
        "    </tr>\n",
        "</table>\n",
        "\n",
        "En primer lugar se clasifican los equipos en tres categorías según el numero de\n",
        "seguidores( que tiene relación directa con la audiencia). Hay **3 equipos** en la **categoría A**, **11 equipos** de **categoría B** y **6 equipos** de **categoría C**.\n",
        "\n",
        "Se conoce estadísticamente la audiencia que genera cada partido según los equipos que se enfrentan y en horario de sábado a las 20h (el mejor en todos los casos).\n",
        "\n",
        "|  <!-- -->       | Categoría A | Categoría B  | Categoría C   |\n",
        "|-----------------|-------------|--------------|---------------|\n",
        "| **Categoría A** | 2 Millones  | 1.3 Millones | 1 Millones    |\n",
        "| **Categoría B** |  <!-- -->   | 0.9 Millones | 0.75 Millones |\n",
        "| **Categoría C** |  <!-- -->   | <!-- -->     | 0.47 Millones |\n",
        "\n",
        "Si el horario del partido no se realiza a las 20 horas del sábado se sabe que se reduce según los coeficientes de la siguiente tabla.\n",
        "\n",
        "Debemos asignar obligatoriamente siempre un partido el viernes y un partido el lunes.\n",
        "\n",
        "| <!-- --> | Viernes | Sábado  | Domingo | Lunes |\n",
        "|----------|---------|---------|---------|-------|\n",
        "| **12h**  | -       | 0.55    | 0.45    | -     |\n",
        "| **16h**  | -       | 0.7     | 0.75    | -     |\n",
        "| **18h**  | -       | 0.8     | 0.85    | -     |\n",
        "| **20h**  |  0.4    | 1       | 1       | 0.4   |\n",
        "\n",
        "Es posible la coincidencia de horarios pero en este caso la audiencia de cada partido se verá afectada y se estima que se reduce en porcentaje según la siguiente tabla dependiendo del número de coincidencias:\n",
        "\n",
        "| Coincidencias | _%  |\n",
        "|---------------|-----|\n",
        "| 0             | 0%  |\n",
        "| 1             | 25% |\n",
        "| 2             | 45% |\n",
        "| 3             | 60% |\n",
        "| 4             | 70% |\n",
        "| 5             | 75% |\n",
        "| 6             | 78% |\n",
        "| 7             | 80% |\n",
        "| 8             | 80% |\n",
        "\n",
        "Los cálculos asociados a una jornada de ejemplo se realizan según se muestra en la siguiente tabla:\n",
        "\n",
        "| Partido|Categorías|Horario|Base(Mill.)|Ponderación|Base*Ponderación|Corrección Coincidencia|\n",
        "|----------------------|-----|-----|-----|-----|-----|-----|\n",
        "|Celta - Real Madrid   | B-A | V20 | 1,3 | 0,4 | 0,52| 0,52|\n",
        "|Valencia - R. Sociedad| B-A | S12 | 1,3 | 0,55| 0,72| 0,72|\n",
        "|Mallorca - Eibar      | C-C | S16 | 0.47| 0,7 | 0,33| 0,33|\n",
        "|Athletic - Barcelona  | B-A | S18 | 1,3 | 0,8 | 1,04| 1,04|\n",
        "|Leganés - Osasuna     | C-C | S20 | 0,47| 1   | 0,47| 0,47|\n",
        "|Villareal - Granada   | B-C | D16 | 0,75| 0,75| 0,56| 0,42|\n",
        "|Alavés - Levante      | B-B | D16 | 0,9 | 0,75| 0,68| 0,51|\n",
        "|Espanyol - Sevilla    | B-B | D18 | 0,9 | 0,85| 0,77| 0,77|\n",
        "|Bétis - Valladolid    | B-C | D20 | 0,75| 1   | 0,75| 0,75|\n",
        "|Atlético - Getafe     | B-B | L20 | 0,9 | 0,4 | 0,36| 0,36|"
      ]
    },
    {
      "cell_type": "markdown",
      "source": [
        "#Modelo\n",
        "- ¿Como represento el espacio de soluciones?\n",
        "- ¿Cual es la función objetivo?\n",
        "- ¿Como implemento las restricciones?"
      ],
      "metadata": {
        "id": "Sbo9IqQtpaHZ"
      }
    },
    {
      "cell_type": "markdown",
      "source": [
        "- **¿Como represento el espacio de soluciones?**\n",
        "\n",
        "El espacio de soluciones viene dado por el conjunto de partidos P y el conjunto de horarios H los cuales se agrupan como un diccionario:\n",
        "\n",
        "`\n",
        "{('Celta', 'Betis'): 'D18', ('Villarreal', 'Sevilla'): 'L20', ...},\n",
        "`\n",
        "\n",
        "donde las claves son los partidos que se juegan en la jornada y los valores el horario junto a la inicial del día. Por lo tanto, el número de combinaciones posibles es:\n",
        "\n",
        "$$\n",
        "Combinaciones = \\binom{N}{10},\n",
        "$$\n",
        "\n",
        "$N$ hace referencia al número de partidos totales posibles.\n"
      ],
      "metadata": {
        "id": "dXS-KYUqrBgN"
      }
    },
    {
      "cell_type": "markdown",
      "source": [
        "- **¿Cual es la función objetivo?**\n",
        "\n",
        "En este problema la función objetivo es maximizar la audiencia total. Por lo tanto la función objetivo es:\n",
        "$$ f_{objetivo} = max \\sum_{j \\in H} R(k_j) \\sum_{i\\in P} x_{i,j} \\cdot A_i \\cdot C_j,$$\n",
        "\n",
        "donde, $A_i$ es la audiencia base del partido según a la categoría que pertenece cada equipo. $C_j$ es el coeficiente de penalización dependiendo la franja horaria. $R(k_j)$ es la penalización de audiencia debido a coincidencias en el mismo horario."
      ],
      "metadata": {
        "id": "DgRwsQcjyAC1"
      }
    },
    {
      "cell_type": "markdown",
      "source": [
        "- **¿Como implemento las restricciones?**\n",
        "\n",
        "Estas son las restricciones que se deben imponer al modelo:\n",
        "\n",
        "1. Cada partido debe jugarse en un único horario:\n",
        "$$ \\sum_{j\\in H} x_{i,j} = 1, \\forall i \\in P.$$\n",
        "\n",
        "2. Un mismo equipo solo puede jugar un partido por jornada:\n",
        "$$\\sum_{i\\in P_e} \\sum_{j\\in H} x_{i,j} \\leq 1, \\forall e \\in E,$$\n",
        "donde E es el conjunto de equipos y $P_e$ el conjunto de partidos en los que juega el equipo $e$.\n",
        "\n",
        "3. Se ha de jugar un partido el viernes y otro el lunes:\n",
        "\n",
        "$$\\sum_{i\\in P} x_{i,V20} = 1, \\sum_{i\\in P} x_{i,L20} = 1.$$\n",
        "\n",
        "4. Reducción de audiencia por coincidencia:\n",
        "\n",
        "| Coincidencias ($k_j$) | _%  | $R(k_j)$  |\n",
        "|-----------------------|-----|-----------|\n",
        "| 0                     | 0%  | 0.0       |\n",
        "| 1                     | 25% | 0.25      |\n",
        "| 2                     | 45% | 0.45      |\n",
        "| 3                     | 60% | 0.60      |\n",
        "| 4                     | 70% | 0.70  |\n",
        "| 5                     | 75% | 0.75  |\n",
        "| 6                     | 78% | 0.78 |\n",
        "| 7                     | 80% | 0.8  |\n",
        "| 8                     | 80% | 0.8  |\n",
        "\n",
        "\n"
      ],
      "metadata": {
        "id": "cOJWv13YziX5"
      }
    },
    {
      "cell_type": "markdown",
      "source": [
        "#Análisis\n",
        "- **¿Que complejidad tiene el problema?. Orden de complejidad y Contabilizar el espacio de soluciones**"
      ],
      "metadata": {
        "id": "HZz52wOppp-U"
      }
    },
    {
      "cell_type": "markdown",
      "source": [
        "\n",
        "Tenemos **20 equipos** en la liga y cada jornada cuenta con **10 partidos**. Cada equipo solo puede jugar un partido por jornada. Contamos con $m$ opciones de horario. Por lo tanto el espacio de soluciones es:\n",
        "$$\n",
        "\\binom{N}{10} \\times 10!\n",
        "$$\n",
        "\n",
        "Para $N \\approx 100$ partidos posibles, el espacio de soluciones es inmanejable por fuerza bruta. La **complejidad** del problema es **exponencial** $O(m^n)$, clasificándose como **NP-difícil**."
      ],
      "metadata": {
        "id": "55KxIjei33IA"
      }
    },
    {
      "cell_type": "markdown",
      "source": [
        "#Diseño\n",
        "- **¿Que técnica utilizo? ¿Por qué?**"
      ],
      "metadata": {
        "id": "ixEJUwH_pv7M"
      }
    },
    {
      "cell_type": "markdown",
      "source": [
        "Al tratarse de un problema de combinatoria la resolución por fuerza bruta se vuelve inviable. Por ello, podremos resolverlo mediante métodos voraces vistos en clase como divide y vencerás y vuelta atrás o con algoritmos genéticos.\n",
        "\n",
        "Entre los diferentes métodos propuestos divide y vencerás se dificulta a la hora de dividir el problema principal en subpreblemas independientes. El método vuelta atrás al imponer tantas restricciones el coste computacional se eleva. Por ello, nos hemos decantado por **algoritmos genéticos** debido a que se aplican muchas condiciones y restricciones complejas. Este método encuentra buenas soluciones explorando múltiples soluciones simultáneamente utilizando mutaciones y cruce para mejorar los resultados. Además, tiene menor coste computacional que los métodos mencionados anteriormente∫."
      ],
      "metadata": {
        "id": "_AzcSjAuzXOe"
      }
    },
    {
      "cell_type": "code",
      "source": [
        "import random\n",
        "###### DEFINIMOS LAS VARIABLES DADAS ######\n",
        "# Los diferentes posibles horarios\n",
        "horarios = ['V20', 'S12', 'S16', 'S18', 'S20', 'D12', 'D16', 'D18', 'D20', 'L20']\n",
        "\n",
        "# Definimos los equipos en base a la categoria a la que pertenecen\n",
        "equipos = {\n",
        "    'A': ['Real Madrid', 'R. Sociedad', 'Barcelona'],\n",
        "    'B': ['Celta', 'Valencia', 'Athletic', 'Villarreal', 'Alavés', 'Levante', 'Espanyol', 'Sevilla', 'Betis', 'Atlético', 'Getafe'],\n",
        "    'C': ['Mallorca', 'Eibar', 'Leganés', 'Osasuna', 'Granada', 'Valladolid']\n",
        "}\n",
        "\n",
        "# La audiencia base dependiendo las categorias de los equipos\n",
        "audiencia_base = {\n",
        "    ('A', 'A'): 2.0,\n",
        "    ('A', 'B'): 1.3,\n",
        "    ('A', 'C'): 1.0,\n",
        "    ('B', 'B'): 0.9,\n",
        "    ('B', 'C'): 0.75,\n",
        "    ('C', 'C'): 0.47\n",
        "}\n",
        "\n",
        "# Factor penalizador dependiendo el horario de partido\n",
        "penalizacion_horario = {\n",
        "    'V20': 0.4,\n",
        "    'S12': 0.55,\n",
        "    'S16': 0.7,\n",
        "    'S18': 0.8,\n",
        "    'S20': 1,\n",
        "    'D12': 0.45,\n",
        "    'D16': 0.75,\n",
        "    'D18': 0.85,\n",
        "    'D20': 1,\n",
        "    'L20': 0.4\n",
        "}\n",
        "\n",
        "# Factor penalizador debido a coincidencias de partidos simultáneos\n",
        "penalizacion_coincidencia = [0, 0.25, 0.45, 0.60, 0.70, 0.75, 0.78, 0.80, 0.80]\n",
        "\n",
        "\n",
        "###### GENERACIÓN DE SOLUCIONES POSIBLES ######\n",
        "\n",
        "partidos = []\n",
        "for i in range(len(equipos['A'])):\n",
        "    for j in range(i + 1, len(equipos['A'])):\n",
        "        partidos.append((equipos['A'][i], equipos['A'][j]))\n",
        "for equipo_A in equipos['A']:\n",
        "    for equipo_B in equipos['B']:\n",
        "        partidos.append((equipo_A, equipo_B))\n",
        "for equipo_A in equipos['A']:\n",
        "    for equipo_C in equipos['C']:\n",
        "        partidos.append((equipo_A, equipo_C))\n",
        "for i in range(len(equipos['B'])):\n",
        "    for j in range(i + 1, len(equipos['B'])):\n",
        "        partidos.append((equipos['B'][i], equipos['B'][j]))\n",
        "for equipo_B in equipos['B']:\n",
        "    for equipo_C in equipos['C']:\n",
        "        partidos.append((equipo_B, equipo_C))\n",
        "for i in range(len(equipos['C'])):\n",
        "    for j in range(i + 1, len(equipos['C'])):\n",
        "        partidos.append((equipos['C'][i], equipos['C'][j]))\n",
        "\n",
        "\n",
        "###### TABLA DE RESULTADOS ######\n",
        "def generar_tabla(asignacion):\n",
        "    tabla = []\n",
        "    horarios_usados = {h: 0 for h in horarios}\n",
        "\n",
        "    for partido, horario in asignacion.items():\n",
        "        cat1 = 'A' if partido[0] in equipos['A'] else ('B' if partido[0] in equipos['B'] else 'C')\n",
        "        cat2 = 'A' if partido[1] in equipos['A'] else ('B' if partido[1] in equipos['B'] else 'C')\n",
        "        audiencia_base_partido = audiencia_base[(cat1, cat2)]\n",
        "        ponderacion = round(penalizacion_horario[horario],2)\n",
        "        base_ponderada = round(audiencia_base_partido * ponderacion,2)\n",
        "        horarios_usados[horario] += 1\n",
        "\n",
        "        tabla.append([f\"{partido[0]} - {partido[1]}\", f\"{cat1}-{cat2}\", horario, audiencia_base_partido, ponderacion, base_ponderada])\n",
        "\n",
        "    for fila in tabla:\n",
        "        coincidencias = horarios_usados[fila[2]] - 1\n",
        "        correccion = fila[5] * (1 - penalizacion_coincidencia[coincidencias]) if coincidencias > 0 else fila[5]\n",
        "        fila.append(correccion)\n",
        "\n",
        "    return tabla\n",
        "\n",
        "\n",
        "\n",
        "###### ALGORITMO GENÉTICO ######\n",
        "\n",
        "def algoritmo_genetico(poblacion_size=100, generaciones=500):\n",
        "    poblacion = []\n",
        "    for _ in range(poblacion_size):\n",
        "        asignacion = {}\n",
        "        partidos_disponibles = random.sample(partidos, len(partidos))\n",
        "        equipos_usados = set()\n",
        "        # cada jornada ha de tener 10 partidos\n",
        "        # los equipos no se pueden repetir en una misma jornada\n",
        "        for partido in partidos_disponibles:\n",
        "            if len(asignacion) >= 10:\n",
        "                break\n",
        "            if partido[0] in equipos_usados or partido[1] in equipos_usados:\n",
        "                continue\n",
        "            asignacion[partido] = random.choice(horarios)\n",
        "            equipos_usados.add(partido[0])\n",
        "            equipos_usados.add(partido[1])\n",
        "\n",
        "        if len(asignacion) == 10:\n",
        "            poblacion.append(asignacion)\n",
        "\n",
        "    # ordenamos la población según la audiencia total\n",
        "    for _ in range(generaciones):\n",
        "        poblacion = sorted(poblacion, key=lambda x: sum(row[-1] for row in generar_tabla(x)), reverse=True)\n",
        "        nueva_poblacion = poblacion[:10]\n",
        "\n",
        "        while len(nueva_poblacion) < poblacion_size:\n",
        "            p1, p2 = random.sample(poblacion[:50], 2)\n",
        "            hijo = {}\n",
        "            equipos_usados = set()\n",
        "\n",
        "            for partido in p1:\n",
        "                if len(hijo) >= 10:\n",
        "                    break\n",
        "                if partido[0] in equipos_usados or partido[1] in equipos_usados:\n",
        "                    continue\n",
        "                hijo[partido] = random.choice(horarios)\n",
        "                equipos_usados.add(partido[0])\n",
        "                equipos_usados.add(partido[1])\n",
        "\n",
        "            if len(hijo) == 10:\n",
        "                nueva_poblacion.append(hijo)\n",
        "\n",
        "        poblacion = nueva_poblacion\n",
        "\n",
        "    mejor_solucion = max(poblacion, key=lambda x: sum(row[-1] for row in generar_tabla(x)))\n",
        "    return generar_tabla(mejor_solucion)\n",
        "\n",
        "tabla_resultado = algoritmo_genetico()\n",
        "print(\"Partido\\tCategorías\\tHorario\\tBase(Mill.)\\tPonderación\\tBase*Ponderación\\tCorrección Coincidencia\")\n",
        "for fila in tabla_resultado:\n",
        "    print(\"\\t\".join(map(str, fila)))"
      ],
      "metadata": {
        "colab": {
          "base_uri": "https://localhost:8080/"
        },
        "id": "fRy68TobzYHK",
        "outputId": "011d57c5-28a3-439d-821c-df339dfafb5e"
      },
      "execution_count": 19,
      "outputs": [
        {
          "output_type": "stream",
          "name": "stdout",
          "text": [
            "Partido\tCategorías\tHorario\tBase(Mill.)\tPonderación\tBase*Ponderación\tCorrección Coincidencia\n",
            "Real Madrid - Atlético\tA-B\tS18\t1.3\t0.8\t1.04\t1.04\n",
            "Leganés - Granada\tC-C\tV20\t0.47\t0.4\t0.19\t0.19\n",
            "Espanyol - Mallorca\tB-C\tS12\t0.75\t0.55\t0.41\t0.41\n",
            "Celta - Valencia\tB-B\tD16\t0.9\t0.75\t0.68\t0.68\n",
            "Athletic - Osasuna\tB-C\tD18\t0.75\t0.85\t0.64\t0.48\n",
            "Getafe - Eibar\tB-C\tD18\t0.75\t0.85\t0.64\t0.48\n",
            "Levante - Sevilla\tB-B\tS16\t0.9\t0.7\t0.63\t0.63\n",
            "Betis - Valladolid\tB-C\tD12\t0.75\t0.45\t0.34\t0.34\n",
            "Villarreal - Alavés\tB-B\tD20\t0.9\t1\t0.9\t0.9\n",
            "R. Sociedad - Barcelona\tA-A\tS20\t2.0\t1\t2.0\t2.0\n"
          ]
        }
      ]
    }
  ]
}