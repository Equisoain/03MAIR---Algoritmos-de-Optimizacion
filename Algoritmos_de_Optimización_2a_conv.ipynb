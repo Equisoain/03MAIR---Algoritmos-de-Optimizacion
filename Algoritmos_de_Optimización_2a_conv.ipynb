{
  "nbformat": 4,
  "nbformat_minor": 0,
  "metadata": {
    "colab": {
      "provenance": [],
      "include_colab_link": true
    },
    "kernelspec": {
      "name": "python3",
      "display_name": "Python 3"
    }
  },
  "cells": [
    {
      "cell_type": "markdown",
      "metadata": {
        "id": "view-in-github",
        "colab_type": "text"
      },
      "source": [
        "<a href=\"https://colab.research.google.com/github/Equisoain/03MAIR---Algoritmos-de-Optimizacion/blob/main/Algoritmos_de_Optimizaci%C3%B3n_2a_conv.ipynb\" target=\"_parent\"><img src=\"https://colab.research.google.com/assets/colab-badge.svg\" alt=\"Open In Colab\"/></a>"
      ]
    },
    {
      "cell_type": "markdown",
      "metadata": {
        "id": "hVbXYX-RfPWh"
      },
      "source": [
        "# Algoritmos de optimización - Trabajo Práctico<br>\n",
        "Nombre y Apellidos: Maddi Equisoain Redin  <br>\n",
        "Url: https://github.com/Equisoain/03MAIR---Algoritmos-de-Optimizacion/blob/main/Trabajo_Pr%C3%A1ctico_Algoritmos_de_Optimizaci%C3%B3n.ipynb <br>\n",
        "Google Colab: https://colab.research.google.com/drive/1OsnrlHeTsOTwtVMitZ8ApzjMnvJz-rm8 <br>\n",
        "Problema:\n",
        "\n",
        ">**2. Organizar los horarios de partidos de una jornada de La Liga**\n",
        "\n",
        "Descripción del problema:\n",
        "\n",
        "Desde la La Liga de fútbol profesional se pretende organizar los horarios de los partidos de liga de cada jornada. Se conocen algunos datos que nos deben llevar a diseñar un algoritmo que realice la asignación de los partidos a los horarios de forma que maximice la audiencia.\n",
        "\n",
        "Los horarios disponibles se conocen a priori y son los siguientes:\n",
        "\n",
        "\n",
        "<table>\n",
        "    <tr>\n",
        "        <td>Viernes</td>\n",
        "        <td>20</td>\n",
        "    </tr>\n",
        "    <tr>\n",
        "        <td>Sábado</td>\n",
        "        <td>12, 16, 18, 20</td>\n",
        "    </tr>\n",
        "    <tr>\n",
        "        <td>Domingo</td>\n",
        "        <td>12, 16, 18, 20</td>\n",
        "    </tr>\n",
        "    <tr>\n",
        "        <td>Lunes</td>\n",
        "        <td>20</td>\n",
        "    </tr>\n",
        "</table>\n",
        "\n",
        "En primer lugar se clasifican los equipos en tres categorías según el numero de\n",
        "seguidores( que tiene relación directa con la audiencia). Hay **3 equipos** en la **categoría A**, **11 equipos** de **categoría B** y **6 equipos** de **categoría C**.\n",
        "\n",
        "Se conoce estadísticamente la audiencia que genera cada partido según los equipos que se enfrentan y en horario de sábado a las 20h (el mejor en todos los casos).\n",
        "\n",
        "|  <!-- -->       | Categoría A | Categoría B  | Categoría C   |\n",
        "|-----------------|-------------|--------------|---------------|\n",
        "| **Categoría A** | 2 Millones  | 1.3 Millones | 1 Millones    |\n",
        "| **Categoría B** |  <!-- -->   | 0.9 Millones | 0.75 Millones |\n",
        "| **Categoría C** |  <!-- -->   | <!-- -->     | 0.47 Millones |\n",
        "\n",
        "Si el horario del partido no se realiza a las 20 horas del sábado se sabe que se reduce según los coeficientes de la siguiente tabla.\n",
        "\n",
        "Debemos asignar obligatoriamente siempre un partido el viernes y un partido el lunes.\n",
        "\n",
        "| <!-- --> | Viernes | Sábado  | Domingo | Lunes |\n",
        "|----------|---------|---------|---------|-------|\n",
        "| **12h**  | -       | 0.55    | 0.45    | -     |\n",
        "| **16h**  | -       | 0.7     | 0.75    | -     |\n",
        "| **18h**  | -       | 0.8     | 0.85    | -     |\n",
        "| **20h**  |  0.4    | 1       | 1       | 0.4   |\n",
        "\n",
        "Es posible la coincidencia de horarios pero en este caso la audiencia de cada partido se verá afectada y se estima que se reduce en porcentaje según la siguiente tabla dependiendo del número de coincidencias:\n",
        "\n",
        "| Coincidencias | _%  |\n",
        "|---------------|-----|\n",
        "| 0             | 0%  |\n",
        "| 1             | 25% |\n",
        "| 2             | 45% |\n",
        "| 3             | 60% |\n",
        "| 4             | 70% |\n",
        "| 5             | 75% |\n",
        "| 6             | 78% |\n",
        "| 7             | 80% |\n",
        "| 8             | 80% |\n",
        "\n",
        "Los cálculos asociados a una jornada de ejemplo se realizan según se muestra en la siguiente tabla:\n",
        "\n",
        "| Partido|Categorías|Horario|Base(Mill.)|Ponderación|Base*Ponderación|Corrección Coincidencia|\n",
        "|----------------------|-----|-----|-----|-----|-----|-----|\n",
        "|Celta - Real Madrid   | B-A | V20 | 1,3 | 0,4 | 0,52| 0,52|\n",
        "|Valencia - R. Sociedad| B-A | S12 | 1,3 | 0,55| 0,72| 0,72|\n",
        "|Mallorca - Eibar      | C-C | S16 | 0.47| 0,7 | 0,33| 0,33|\n",
        "|Athletic - Barcelona  | B-A | S18 | 1,3 | 0,8 | 1,04| 1,04|\n",
        "|Leganés - Osasuna     | C-C | S20 | 0,47| 1   | 0,47| 0,47|\n",
        "|Villareal - Granada   | B-C | D16 | 0,75| 0,75| 0,56| 0,42|\n",
        "|Alavés - Levante      | B-B | D16 | 0,9 | 0,75| 0,68| 0,51|\n",
        "|Espanyol - Sevilla    | B-B | D18 | 0,9 | 0,85| 0,77| 0,77|\n",
        "|Bétis - Valladolid    | B-C | D20 | 0,75| 1   | 0,75| 0,75|\n",
        "|Atlético - Getafe     | B-B | L20 | 0,9 | 0,4 | 0,36| 0,36|"
      ]
    },
    {
      "cell_type": "markdown",
      "source": [
        "#Modelo\n",
        "- ¿Como represento el espacio de soluciones?\n",
        "- ¿Cual es la función objetivo?\n",
        "- ¿Como implemento las restricciones?"
      ],
      "metadata": {
        "id": "Sbo9IqQtpaHZ"
      }
    },
    {
      "cell_type": "markdown",
      "source": [
        "- **¿Como represento el espacio de soluciones?**\n",
        "\n",
        "El espacio de soluciones viene dado por el conjunto de partidos P (10 en este caso) y el conjunto de horarios H (10 franjas horarias) los cuales se agrupan como un diccionario:\n",
        "\n",
        "`\n",
        "{('Celta', 'Betis'): 'D18', ('Villarreal', 'Sevilla'): 'L20', ...},\n",
        "`\n",
        "\n",
        "donde las claves son los partidos que se juegan en la jornada y los valores el horario junto a la inicial del día. Por lo tanto, el espacio de soluciones es:\n",
        "\n",
        "$$\n",
        "\\text{Espacio de soluciones} = H^P = 10^{10}.\n",
        "$$\n"
      ],
      "metadata": {
        "id": "dXS-KYUqrBgN"
      }
    },
    {
      "cell_type": "markdown",
      "source": [
        "- **¿Cual es la función objetivo?**\n",
        "\n",
        "En este problema la función objetivo es maximizar la audiencia total. Por lo tanto la función objetivo es:\n",
        "\n",
        "$$ f_{objetivo} = max ∑_{i ∈ P} (A_i \\cdot C_j(i) \\cdot (1 - R(k_j(i)))),\n",
        " $$\n",
        "\n",
        "donde, $A_i$ es la audiencia base del partido según a la categoría que pertenece cada equipo. $C_j$ es el coeficiente de penalización dependiendo la franja horaria. $R(k_j)$ es la penalización de audiencia debido a coincidencias en el mismo horario."
      ],
      "metadata": {
        "id": "DgRwsQcjyAC1"
      }
    },
    {
      "cell_type": "markdown",
      "source": [
        "- **¿Como implemento las restricciones?**\n",
        "\n",
        "Estas son las restricciones que se deben imponer al modelo:\n",
        "\n",
        "1. Reducción por horario del partido si no se juega a las 20h.\n",
        "\n",
        "| <!-- --> | Viernes | Sábado  | Domingo | Lunes |\n",
        "|----------|---------|---------|---------|-------|\n",
        "| **12h**  | -       | 0.55    | 0.45    | -     |\n",
        "| **16h**  | -       | 0.7     | 0.75    | -     |\n",
        "| **18h**  | -       | 0.8     | 0.85    | -     |\n",
        "| **20h**  |  0.4    | 1       | 1       | 0.4   |\n",
        "\n",
        "$$ Audiencia_i = A_i \\cdot C(h_i),$$\n",
        "\n",
        "se puede observar la restricción en la función objetivo descrita anteriormente donde $A_i$ es la audiecia base y $C_j$ es el coeficiente de penalización dependiendo la franja horaria.\n",
        "\n",
        "2. Se ha de jugar un partido el viernes y otro el lunes:\n",
        "\n",
        "$$\\sum_{i\\in P} x_{i,V20} = 1, \\sum_{i\\in P} x_{i,L20} = 1.$$\n",
        "\n",
        "3. Reducción de audiencia por coincidencia:\n",
        "\n",
        "| Coincidencias ($k_j$) | _%  | $R(k_j)$  |\n",
        "|-----------------------|-----|-----------|\n",
        "| 0                     | 0%  | 0.0       |\n",
        "| 1                     | 25% | 0.25      |\n",
        "| 2                     | 45% | 0.45      |\n",
        "| 3                     | 60% | 0.60      |\n",
        "| 4                     | 70% | 0.70  |\n",
        "| 5                     | 75% | 0.75  |\n",
        "| 6                     | 78% | 0.78 |\n",
        "| 7                     | 80% | 0.8  |\n",
        "| 8                     | 80% | 0.8  |\n",
        "\n",
        "$$\n",
        "\\text{Audiencia reducida por coincidencia}_i = A_i \\cdot C(h_i) \\cdot (1 - R(k_{h_i})),\n",
        "$$\n",
        "\n",
        "donde $R(k)$ es la penalicación de audiencia por coincidencia de horario.\n",
        "\n"
      ],
      "metadata": {
        "id": "cOJWv13YziX5"
      }
    },
    {
      "cell_type": "markdown",
      "source": [
        "#Análisis\n",
        "- **¿Que complejidad tiene el problema?. Orden de complejidad y Contabilizar el espacio de soluciones**"
      ],
      "metadata": {
        "id": "HZz52wOppp-U"
      }
    },
    {
      "cell_type": "markdown",
      "source": [
        "\n",
        "Tenemos **20 equipos** en la liga y cada jornada cuenta con **10 partidos**. Cada equipo solo puede jugar un partido por jornada. Contamos con **10** opciones de **horarios** donde pueden haber partidos:\n",
        "\n",
        "`\n",
        "['V20', 'S12', 'S16', 'S18', 'S20', 'D12', 'D16', 'D18', 'D20', 'L20']\n",
        "`\n",
        "\n",
        "Por lo tanto, el espacio de soluciones, sin tener en cuenta las restricciones, es:\n",
        " $$\n",
        "\\text{Espacio de soluciones} = 10^{10}\n",
        " $$\n",
        "\n",
        "Esto da 10 mil millones d ecombinaciones posibles, lo que hace que la búsqueda por fuerza bruta no sea viable. Teniendo en cuenta las restricciones el número aumenta. La **complejidad** del problema es **exponencial** $O(m^n)$, clasificándose como **NP-difícil**. Por ello, es conveniente utilizar algoritmos metaheurísticos.\n"
      ],
      "metadata": {
        "id": "55KxIjei33IA"
      }
    },
    {
      "cell_type": "markdown",
      "source": [
        "#Diseño\n",
        "- **¿Que técnica utilizo? ¿Por qué?**"
      ],
      "metadata": {
        "id": "ixEJUwH_pv7M"
      }
    },
    {
      "cell_type": "markdown",
      "source": [
        "Al tratarse de un problema de combinatoria la resolución por fuerza bruta se vuelve inviable. Por ello, podremos resolverlo mediante métodos voraces vistos en clase como divide y vencerás y vuelta atrás o con algoritmos metaherísticos como son los algoritmos genéticos.\n",
        "\n",
        "Entre los diferentes métodos propuestos divide y vencerás se dificulta a la hora de dividir el problema principal en subpreblemas independientes. El método vuelta atrás al imponer tantas restricciones el coste computacional se eleva. Por ello, nos hemos decantado por **algoritmos genéticos** debido a que se aplican muchas condiciones y restricciones complejas. Este método encuentra buenas soluciones explorando múltiples soluciones simultáneamente utilizando mutaciones y cruce para mejorar los resultados. Además, tiene menor coste computacional que los métodos mencionados anteriormente."
      ],
      "metadata": {
        "id": "_AzcSjAuzXOe"
      }
    },
    {
      "cell_type": "code",
      "source": [
        "import random\n",
        "import pandas as pd\n",
        "\n",
        "###### DEFINIMOS LAS VARIABLES DADAS ######\n",
        "horarios = ['V20', 'S12', 'S16', 'S18', 'S20', 'D12', 'D16', 'D18', 'D20', 'L20']\n",
        "\n",
        "partidos = [\n",
        "    ('Celta', 'Real Madrid'), ('Valencia', 'R. Sociedad'), ('Mallorca', 'Eibar'),\n",
        "    ('Athletic', 'Barcelona'), ('Leganés', 'Osasuna'), ('Villarreal', 'Granada'),\n",
        "    ('Alavés', 'Levante'), ('Espanyol', 'Sevilla'), ('Betis', 'Valladolid'), ('Atlético', 'Getafe')\n",
        "]\n",
        "\n",
        "categorias_equipos = {\n",
        "    'Real Madrid': 'A', 'Barcelona': 'A', 'Atlético': 'A', 'Sevilla': 'A',\n",
        "    'R. Sociedad': 'B', 'Betis': 'B', 'Villarreal': 'B', 'Athletic': 'B',\n",
        "    'Valencia': 'B', 'Celta': 'B', 'Osasuna': 'C', 'Mallorca': 'C',\n",
        "    'Espanyol': 'C', 'Leganés': 'C', 'Eibar': 'C', 'Getafe': 'C',\n",
        "    'Granada': 'C', 'Levante': 'C', 'Alavés': 'C', 'Valladolid': 'C'\n",
        "}\n",
        "\n",
        "audiencia_base = {\n",
        "    ('A', 'A'): 2.0, ('A', 'B'): 1.3, ('A', 'C'): 1.0,\n",
        "    ('B', 'A'): 1.3, ('B', 'B'): 0.9, ('B', 'C'): 0.75,\n",
        "    ('C', 'A'): 1.0, ('C', 'B'): 0.75, ('C', 'C'): 0.47\n",
        "}\n",
        "\n",
        "penalizacion_horario = {\n",
        "    'V20': 0.4, 'S12': 0.55, 'S16': 0.7, 'S18': 0.8, 'S20': 1,\n",
        "    'D12': 0.45, 'D16': 0.75, 'D18': 0.85, 'D20': 1, 'L20': 0.4\n",
        "}\n",
        "\n",
        "penalizacion_coincidencia = [0, 0.25, 0.45, 0.60, 0.70, 0.75, 0.78, 0.80, 0.80]\n",
        "\n",
        "def generar_tabla(asignacion):\n",
        "    tabla = []\n",
        "    horarios_usados = {h: 0 for h in horarios}\n",
        "\n",
        "    for partido, horario in asignacion.items():\n",
        "        cat_local = categorias_equipos[partido[0]]\n",
        "        cat_visitante = categorias_equipos[partido[1]]\n",
        "        categoria_partido = f\"{cat_local}-{cat_visitante}\"\n",
        "\n",
        "        audiencia_base_partido = audiencia_base[(cat_local, cat_visitante)]\n",
        "        ponderacion = round(penalizacion_horario[horario], 2)\n",
        "        base_ponderada = round(audiencia_base_partido * ponderacion, 2)\n",
        "        horarios_usados[horario] += 1\n",
        "\n",
        "        tabla.append([f\"{partido[0]} - {partido[1]}\", categoria_partido, horario, audiencia_base_partido, ponderacion, base_ponderada])\n",
        "\n",
        "    for fila in tabla:\n",
        "        coincidencias = horarios_usados[fila[2]] - 1\n",
        "        correccion = fila[5] * (1 - penalizacion_coincidencia[coincidencias]) if coincidencias > 0 else fila[5]\n",
        "        fila.append(correccion)\n",
        "\n",
        "    return tabla\n",
        "\n",
        "def algoritmo_genetico(poblacion_size=100, generaciones=500):\n",
        "    poblacion = []\n",
        "    for _ in range(poblacion_size):\n",
        "        asignacion = {}\n",
        "\n",
        "        partido_viernes = partidos[0]\n",
        "        partido_lunes = partidos[1]\n",
        "        asignacion[partido_viernes] = 'V20'\n",
        "        asignacion[partido_lunes] = 'L20'\n",
        "\n",
        "        partidos_restantes = [p for p in partidos if p not in (partido_viernes, partido_lunes)]\n",
        "        horarios_restantes = [h for h in horarios if h not in ('V20', 'L20')]\n",
        "        random.shuffle(horarios_restantes)\n",
        "\n",
        "        for i, partido in enumerate(partidos_restantes):\n",
        "            asignacion[partido] = horarios_restantes[i % len(horarios_restantes)]\n",
        "\n",
        "        poblacion.append(asignacion)\n",
        "\n",
        "    for _ in range(generaciones):\n",
        "        poblacion = sorted(poblacion, key=lambda x: sum(row[-1] for row in generar_tabla(x)), reverse=True)\n",
        "        nueva_poblacion = poblacion[:10]\n",
        "\n",
        "        while len(nueva_poblacion) < poblacion_size:\n",
        "            p1, p2 = random.sample(poblacion[:50], 2)\n",
        "            hijo = {}\n",
        "\n",
        "            hijo[partido_viernes] = 'V20'\n",
        "            hijo[partido_lunes] = 'L20'\n",
        "            for partido in partidos_restantes:\n",
        "                hijo[partido] = random.choice([p1[partido], p2[partido]])\n",
        "\n",
        "            nueva_poblacion.append(hijo)\n",
        "\n",
        "        poblacion = nueva_poblacion\n",
        "\n",
        "    mejor_solucion = max(poblacion, key=lambda x: sum(row[-1] for row in generar_tabla(x)))\n",
        "    return generar_tabla(mejor_solucion)\n",
        "\n",
        "\n",
        "tabla_resultado = algoritmo_genetico()\n",
        "\n",
        "df_resultado = pd.DataFrame(tabla_resultado, columns=[\n",
        "    \"Partido\", \"Categoría\", \"Horario\", \"Base (Mill.)\", \"Ponderación\", \"Base * Ponderación\", \"Corrección Coincidencia\"\n",
        "])\n",
        "\n",
        "#print(df_resultado.to_markdown(index=False))\n",
        "print(df_resultado.to_string(index=False))\n"
      ],
      "metadata": {
        "colab": {
          "base_uri": "https://localhost:8080/"
        },
        "id": "_f-u7_4mImKG",
        "outputId": "d782a4b4-1a8f-45a3-e10f-e495bf15c608"
      },
      "execution_count": 11,
      "outputs": [
        {
          "output_type": "stream",
          "name": "stdout",
          "text": [
            "               Partido Categoría Horario  Base (Mill.)  Ponderación  Base * Ponderación  Corrección Coincidencia\n",
            "   Celta - Real Madrid       B-A     V20          1.30         0.40                0.52                     0.52\n",
            "Valencia - R. Sociedad       B-B     L20          0.90         0.40                0.36                     0.36\n",
            "      Mallorca - Eibar       C-C     D12          0.47         0.45                0.21                     0.21\n",
            "  Athletic - Barcelona       B-A     D20          1.30         1.00                1.30                     1.30\n",
            "     Leganés - Osasuna       C-C     S12          0.47         0.55                0.26                     0.26\n",
            "  Villarreal - Granada       B-C     D16          0.75         0.75                0.56                     0.56\n",
            "      Alavés - Levante       C-C     S16          0.47         0.70                0.33                     0.33\n",
            "    Espanyol - Sevilla       C-A     D18          1.00         0.85                0.85                     0.85\n",
            "    Betis - Valladolid       B-C     S18          0.75         0.80                0.60                     0.60\n",
            "     Atlético - Getafe       A-C     S20          1.00         1.00                1.00                     1.00\n"
          ]
        }
      ]
    },
    {
      "cell_type": "code",
      "source": [],
      "metadata": {
        "id": "cs8svh3j0guY"
      },
      "execution_count": 2,
      "outputs": []
    }
  ]
}